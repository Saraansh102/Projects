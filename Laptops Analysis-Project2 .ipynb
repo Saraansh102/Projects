{
 "cells": [
  {
   "cell_type": "markdown",
   "id": "331f1aff",
   "metadata": {},
   "source": [
    "# Laptop Analysis\n",
    "## Name:Saraansh Chikara"
   ]
  },
  {
   "cell_type": "code",
   "execution_count": 1,
   "id": "3bb13ba4",
   "metadata": {},
   "outputs": [],
   "source": [
    "#importing python libraries\n",
    "import pandas as pd\n",
    "import seaborn as sns\n",
    "import matplotlib.pyplot as plt"
   ]
  },
  {
   "cell_type": "code",
   "execution_count": 2,
   "id": "f638b3d6",
   "metadata": {},
   "outputs": [],
   "source": [
    "#read csv file\n",
    "df=pd.read_csv(\"Laptop.csv\")"
   ]
  },
  {
   "cell_type": "code",
   "execution_count": 3,
   "id": "7be6ccb0",
   "metadata": {},
   "outputs": [
    {
     "data": {
      "text/html": [
       "<div>\n",
       "<style scoped>\n",
       "    .dataframe tbody tr th:only-of-type {\n",
       "        vertical-align: middle;\n",
       "    }\n",
       "\n",
       "    .dataframe tbody tr th {\n",
       "        vertical-align: top;\n",
       "    }\n",
       "\n",
       "    .dataframe thead th {\n",
       "        text-align: right;\n",
       "    }\n",
       "</style>\n",
       "<table border=\"1\" class=\"dataframe\">\n",
       "  <thead>\n",
       "    <tr style=\"text-align: right;\">\n",
       "      <th></th>\n",
       "      <th>Unnamed: 0</th>\n",
       "      <th>Brand</th>\n",
       "      <th>Model</th>\n",
       "      <th>Series</th>\n",
       "      <th>Processor</th>\n",
       "      <th>Processor_Gen</th>\n",
       "      <th>RAM</th>\n",
       "      <th>Hard_Disk_Capacity</th>\n",
       "      <th>OS</th>\n",
       "      <th>Rating</th>\n",
       "      <th>Price</th>\n",
       "    </tr>\n",
       "  </thead>\n",
       "  <tbody>\n",
       "    <tr>\n",
       "      <th>0</th>\n",
       "      <td>0</td>\n",
       "      <td>DELL</td>\n",
       "      <td>Inspiron</td>\n",
       "      <td>NaN</td>\n",
       "      <td>i3</td>\n",
       "      <td>11th</td>\n",
       "      <td>8.0</td>\n",
       "      <td>1 TB HDD</td>\n",
       "      <td>Windows 11 Home</td>\n",
       "      <td>3.7</td>\n",
       "      <td>39040</td>\n",
       "    </tr>\n",
       "    <tr>\n",
       "      <th>1</th>\n",
       "      <td>1</td>\n",
       "      <td>DELL</td>\n",
       "      <td>Vostro</td>\n",
       "      <td>NaN</td>\n",
       "      <td>i5</td>\n",
       "      <td>11th</td>\n",
       "      <td>8.0</td>\n",
       "      <td>1 TB HDD</td>\n",
       "      <td>Windows 10 Home</td>\n",
       "      <td>3.6</td>\n",
       "      <td>50840</td>\n",
       "    </tr>\n",
       "    <tr>\n",
       "      <th>2</th>\n",
       "      <td>2</td>\n",
       "      <td>ASUS</td>\n",
       "      <td>VivoBook</td>\n",
       "      <td>15</td>\n",
       "      <td>i3</td>\n",
       "      <td>10th</td>\n",
       "      <td>8.0</td>\n",
       "      <td>512 GB SSD</td>\n",
       "      <td>Windows 11 Home</td>\n",
       "      <td>4.3</td>\n",
       "      <td>37940</td>\n",
       "    </tr>\n",
       "    <tr>\n",
       "      <th>3</th>\n",
       "      <td>3</td>\n",
       "      <td>DELL</td>\n",
       "      <td>Inspiron</td>\n",
       "      <td>NaN</td>\n",
       "      <td>i3</td>\n",
       "      <td>11th</td>\n",
       "      <td>8.0</td>\n",
       "      <td>1 TB HDD</td>\n",
       "      <td>256 GB SSD</td>\n",
       "      <td>4.4</td>\n",
       "      <td>44440</td>\n",
       "    </tr>\n",
       "    <tr>\n",
       "      <th>4</th>\n",
       "      <td>4</td>\n",
       "      <td>ASUS</td>\n",
       "      <td>TUF</td>\n",
       "      <td>Gaming</td>\n",
       "      <td>i5</td>\n",
       "      <td>10th</td>\n",
       "      <td>8.0</td>\n",
       "      <td>512 GB SSD</td>\n",
       "      <td>Windows 10 Home</td>\n",
       "      <td>4.5</td>\n",
       "      <td>57940</td>\n",
       "    </tr>\n",
       "  </tbody>\n",
       "</table>\n",
       "</div>"
      ],
      "text/plain": [
       "   Unnamed: 0 Brand     Model  Series Processor Processor_Gen  RAM  \\\n",
       "0           0  DELL  Inspiron     NaN        i3          11th  8.0   \n",
       "1           1  DELL    Vostro     NaN        i5          11th  8.0   \n",
       "2           2  ASUS  VivoBook      15        i3          10th  8.0   \n",
       "3           3  DELL  Inspiron     NaN        i3          11th  8.0   \n",
       "4           4  ASUS       TUF  Gaming        i5          10th  8.0   \n",
       "\n",
       "  Hard_Disk_Capacity               OS  Rating  Price  \n",
       "0           1 TB HDD  Windows 11 Home     3.7  39040  \n",
       "1           1 TB HDD  Windows 10 Home     3.6  50840  \n",
       "2         512 GB SSD  Windows 11 Home     4.3  37940  \n",
       "3           1 TB HDD       256 GB SSD     4.4  44440  \n",
       "4         512 GB SSD  Windows 10 Home     4.5  57940  "
      ]
     },
     "execution_count": 3,
     "metadata": {},
     "output_type": "execute_result"
    }
   ],
   "source": [
    "#showing the dataset\n",
    "df.head()"
   ]
  },
  {
   "cell_type": "code",
   "execution_count": 4,
   "id": "5612252d",
   "metadata": {},
   "outputs": [
    {
     "name": "stdout",
     "output_type": "stream",
     "text": [
      "<class 'pandas.core.frame.DataFrame'>\n",
      "RangeIndex: 130 entries, 0 to 129\n",
      "Data columns (total 11 columns):\n",
      " #   Column              Non-Null Count  Dtype  \n",
      "---  ------              --------------  -----  \n",
      " 0   Unnamed: 0          130 non-null    int64  \n",
      " 1   Brand               130 non-null    object \n",
      " 2   Model               116 non-null    object \n",
      " 3   Series              80 non-null     object \n",
      " 4   Processor           123 non-null    object \n",
      " 5   Processor_Gen       123 non-null    object \n",
      " 6   RAM                 122 non-null    float64\n",
      " 7   Hard_Disk_Capacity  122 non-null    object \n",
      " 8   OS                  122 non-null    object \n",
      " 9   Rating              130 non-null    float64\n",
      " 10  Price               130 non-null    int64  \n",
      "dtypes: float64(2), int64(2), object(7)\n",
      "memory usage: 11.3+ KB\n"
     ]
    }
   ],
   "source": [
    "#checking data type\n",
    "df.info()"
   ]
  },
  {
   "cell_type": "code",
   "execution_count": 5,
   "id": "f6c92c77",
   "metadata": {},
   "outputs": [
    {
     "data": {
      "text/plain": [
       "Unnamed: 0             0\n",
       "Brand                  0\n",
       "Model                 14\n",
       "Series                50\n",
       "Processor              7\n",
       "Processor_Gen          7\n",
       "RAM                    8\n",
       "Hard_Disk_Capacity     8\n",
       "OS                     8\n",
       "Rating                 0\n",
       "Price                  0\n",
       "dtype: int64"
      ]
     },
     "execution_count": 5,
     "metadata": {},
     "output_type": "execute_result"
    }
   ],
   "source": [
    "#checking wthere any null values\n",
    "df.isnull().sum()"
   ]
  },
  {
   "cell_type": "code",
   "execution_count": 6,
   "id": "b012d2fe",
   "metadata": {},
   "outputs": [
    {
     "data": {
      "text/plain": [
       "0"
      ]
     },
     "execution_count": 6,
     "metadata": {},
     "output_type": "execute_result"
    }
   ],
   "source": [
    "#checking whether any duplicated values\n",
    "df.duplicated().sum()"
   ]
  },
  {
   "cell_type": "code",
   "execution_count": 7,
   "id": "f08499f3",
   "metadata": {},
   "outputs": [],
   "source": [
    "#dropping null values\n",
    "df=df.dropna()"
   ]
  },
  {
   "cell_type": "code",
   "execution_count": 8,
   "id": "16bcd53c",
   "metadata": {},
   "outputs": [
    {
     "data": {
      "text/html": [
       "<div>\n",
       "<style scoped>\n",
       "    .dataframe tbody tr th:only-of-type {\n",
       "        vertical-align: middle;\n",
       "    }\n",
       "\n",
       "    .dataframe tbody tr th {\n",
       "        vertical-align: top;\n",
       "    }\n",
       "\n",
       "    .dataframe thead th {\n",
       "        text-align: right;\n",
       "    }\n",
       "</style>\n",
       "<table border=\"1\" class=\"dataframe\">\n",
       "  <thead>\n",
       "    <tr style=\"text-align: right;\">\n",
       "      <th></th>\n",
       "      <th>RAM</th>\n",
       "      <th>Rating</th>\n",
       "      <th>Price</th>\n",
       "    </tr>\n",
       "  </thead>\n",
       "  <tbody>\n",
       "    <tr>\n",
       "      <th>count</th>\n",
       "      <td>72.000000</td>\n",
       "      <td>72.000000</td>\n",
       "      <td>72.000000</td>\n",
       "    </tr>\n",
       "    <tr>\n",
       "      <th>mean</th>\n",
       "      <td>8.833333</td>\n",
       "      <td>4.291667</td>\n",
       "      <td>52474.763889</td>\n",
       "    </tr>\n",
       "    <tr>\n",
       "      <th>std</th>\n",
       "      <td>3.484372</td>\n",
       "      <td>0.285692</td>\n",
       "      <td>17882.937326</td>\n",
       "    </tr>\n",
       "    <tr>\n",
       "      <th>min</th>\n",
       "      <td>4.000000</td>\n",
       "      <td>2.900000</td>\n",
       "      <td>17640.000000</td>\n",
       "    </tr>\n",
       "    <tr>\n",
       "      <th>25%</th>\n",
       "      <td>8.000000</td>\n",
       "      <td>4.200000</td>\n",
       "      <td>39690.000000</td>\n",
       "    </tr>\n",
       "    <tr>\n",
       "      <th>50%</th>\n",
       "      <td>8.000000</td>\n",
       "      <td>4.300000</td>\n",
       "      <td>49940.000000</td>\n",
       "    </tr>\n",
       "    <tr>\n",
       "      <th>75%</th>\n",
       "      <td>8.000000</td>\n",
       "      <td>4.500000</td>\n",
       "      <td>60071.750000</td>\n",
       "    </tr>\n",
       "    <tr>\n",
       "      <th>max</th>\n",
       "      <td>16.000000</td>\n",
       "      <td>4.800000</td>\n",
       "      <td>114940.000000</td>\n",
       "    </tr>\n",
       "  </tbody>\n",
       "</table>\n",
       "</div>"
      ],
      "text/plain": [
       "             RAM     Rating          Price\n",
       "count  72.000000  72.000000      72.000000\n",
       "mean    8.833333   4.291667   52474.763889\n",
       "std     3.484372   0.285692   17882.937326\n",
       "min     4.000000   2.900000   17640.000000\n",
       "25%     8.000000   4.200000   39690.000000\n",
       "50%     8.000000   4.300000   49940.000000\n",
       "75%     8.000000   4.500000   60071.750000\n",
       "max    16.000000   4.800000  114940.000000"
      ]
     },
     "execution_count": 8,
     "metadata": {},
     "output_type": "execute_result"
    }
   ],
   "source": [
    "#checking statistical values\n",
    "df[['RAM','Rating','Price']].describe()"
   ]
  },
  {
   "cell_type": "code",
   "execution_count": 9,
   "id": "9bb1a954",
   "metadata": {},
   "outputs": [
    {
     "data": {
      "text/plain": [
       "Unnamed: 0            0\n",
       "Brand                 0\n",
       "Model                 0\n",
       "Series                0\n",
       "Processor             0\n",
       "Processor_Gen         0\n",
       "RAM                   0\n",
       "Hard_Disk_Capacity    0\n",
       "OS                    0\n",
       "Rating                0\n",
       "Price                 0\n",
       "dtype: int64"
      ]
     },
     "execution_count": 9,
     "metadata": {},
     "output_type": "execute_result"
    }
   ],
   "source": [
    "#rechecking whether null values have been dropped\n",
    "df.isnull().sum()"
   ]
  },
  {
   "cell_type": "code",
   "execution_count": 10,
   "id": "de114be6",
   "metadata": {},
   "outputs": [
    {
     "data": {
      "text/html": [
       "<div>\n",
       "<style scoped>\n",
       "    .dataframe tbody tr th:only-of-type {\n",
       "        vertical-align: middle;\n",
       "    }\n",
       "\n",
       "    .dataframe tbody tr th {\n",
       "        vertical-align: top;\n",
       "    }\n",
       "\n",
       "    .dataframe thead th {\n",
       "        text-align: right;\n",
       "    }\n",
       "</style>\n",
       "<table border=\"1\" class=\"dataframe\">\n",
       "  <thead>\n",
       "    <tr style=\"text-align: right;\">\n",
       "      <th></th>\n",
       "      <th>Unnamed: 0</th>\n",
       "      <th>Brand</th>\n",
       "      <th>Model</th>\n",
       "      <th>Series</th>\n",
       "      <th>Processor</th>\n",
       "      <th>Processor_Gen</th>\n",
       "      <th>RAM</th>\n",
       "      <th>Hard_Disk_Capacity</th>\n",
       "      <th>OS</th>\n",
       "      <th>Rating</th>\n",
       "      <th>Price</th>\n",
       "    </tr>\n",
       "  </thead>\n",
       "  <tbody>\n",
       "    <tr>\n",
       "      <th>2</th>\n",
       "      <td>2</td>\n",
       "      <td>ASUS</td>\n",
       "      <td>VivoBook</td>\n",
       "      <td>15</td>\n",
       "      <td>i3</td>\n",
       "      <td>10th</td>\n",
       "      <td>8.0</td>\n",
       "      <td>512 GB SSD</td>\n",
       "      <td>Windows 11 Home</td>\n",
       "      <td>4.3</td>\n",
       "      <td>37940</td>\n",
       "    </tr>\n",
       "    <tr>\n",
       "      <th>4</th>\n",
       "      <td>4</td>\n",
       "      <td>ASUS</td>\n",
       "      <td>TUF</td>\n",
       "      <td>Gaming</td>\n",
       "      <td>i5</td>\n",
       "      <td>10th</td>\n",
       "      <td>8.0</td>\n",
       "      <td>512 GB SSD</td>\n",
       "      <td>Windows 10 Home</td>\n",
       "      <td>4.5</td>\n",
       "      <td>57940</td>\n",
       "    </tr>\n",
       "    <tr>\n",
       "      <th>5</th>\n",
       "      <td>5</td>\n",
       "      <td>ASUS</td>\n",
       "      <td>Ryzen</td>\n",
       "      <td>3</td>\n",
       "      <td>3250U</td>\n",
       "      <td>3rd</td>\n",
       "      <td>8.0</td>\n",
       "      <td>256 GB SSD</td>\n",
       "      <td>Windows 10 Home</td>\n",
       "      <td>4.3</td>\n",
       "      <td>35940</td>\n",
       "    </tr>\n",
       "    <tr>\n",
       "      <th>6</th>\n",
       "      <td>6</td>\n",
       "      <td>DELL</td>\n",
       "      <td>Inspiron</td>\n",
       "      <td>Athlon</td>\n",
       "      <td>3050U</td>\n",
       "      <td>-</td>\n",
       "      <td>4.0</td>\n",
       "      <td>256 GB SSD</td>\n",
       "      <td>Windows 11 Home</td>\n",
       "      <td>4.2</td>\n",
       "      <td>33940</td>\n",
       "    </tr>\n",
       "    <tr>\n",
       "      <th>8</th>\n",
       "      <td>8</td>\n",
       "      <td>Lenovo</td>\n",
       "      <td>IdeaPad</td>\n",
       "      <td>3</td>\n",
       "      <td>i3</td>\n",
       "      <td>10th</td>\n",
       "      <td>8.0</td>\n",
       "      <td>1 TB HDD</td>\n",
       "      <td>Windows 10 Home</td>\n",
       "      <td>4.1</td>\n",
       "      <td>37440</td>\n",
       "    </tr>\n",
       "  </tbody>\n",
       "</table>\n",
       "</div>"
      ],
      "text/plain": [
       "   Unnamed: 0   Brand     Model  Series Processor Processor_Gen  RAM  \\\n",
       "2           2    ASUS  VivoBook      15        i3          10th  8.0   \n",
       "4           4    ASUS       TUF  Gaming        i5          10th  8.0   \n",
       "5           5    ASUS     Ryzen       3     3250U           3rd  8.0   \n",
       "6           6    DELL  Inspiron  Athlon     3050U             -  4.0   \n",
       "8           8  Lenovo   IdeaPad       3        i3          10th  8.0   \n",
       "\n",
       "  Hard_Disk_Capacity               OS  Rating  Price  \n",
       "2         512 GB SSD  Windows 11 Home     4.3  37940  \n",
       "4         512 GB SSD  Windows 10 Home     4.5  57940  \n",
       "5         256 GB SSD  Windows 10 Home     4.3  35940  \n",
       "6         256 GB SSD  Windows 11 Home     4.2  33940  \n",
       "8           1 TB HDD  Windows 10 Home     4.1  37440  "
      ]
     },
     "execution_count": 10,
     "metadata": {},
     "output_type": "execute_result"
    }
   ],
   "source": [
    "df.head()"
   ]
  },
  {
   "cell_type": "code",
   "execution_count": 11,
   "id": "285a5a46",
   "metadata": {},
   "outputs": [
    {
     "data": {
      "text/html": [
       "<div>\n",
       "<style scoped>\n",
       "    .dataframe tbody tr th:only-of-type {\n",
       "        vertical-align: middle;\n",
       "    }\n",
       "\n",
       "    .dataframe tbody tr th {\n",
       "        vertical-align: top;\n",
       "    }\n",
       "\n",
       "    .dataframe thead th {\n",
       "        text-align: right;\n",
       "    }\n",
       "</style>\n",
       "<table border=\"1\" class=\"dataframe\">\n",
       "  <thead>\n",
       "    <tr style=\"text-align: right;\">\n",
       "      <th></th>\n",
       "      <th>count</th>\n",
       "      <th>unique</th>\n",
       "      <th>top</th>\n",
       "      <th>freq</th>\n",
       "    </tr>\n",
       "  </thead>\n",
       "  <tbody>\n",
       "    <tr>\n",
       "      <th>Brand</th>\n",
       "      <td>72</td>\n",
       "      <td>8</td>\n",
       "      <td>ASUS</td>\n",
       "      <td>27</td>\n",
       "    </tr>\n",
       "    <tr>\n",
       "      <th>Model</th>\n",
       "      <td>72</td>\n",
       "      <td>25</td>\n",
       "      <td>IdeaPad</td>\n",
       "      <td>15</td>\n",
       "    </tr>\n",
       "    <tr>\n",
       "      <th>Series</th>\n",
       "      <td>72</td>\n",
       "      <td>26</td>\n",
       "      <td>3</td>\n",
       "      <td>17</td>\n",
       "    </tr>\n",
       "    <tr>\n",
       "      <th>Processor</th>\n",
       "      <td>72</td>\n",
       "      <td>16</td>\n",
       "      <td>i3</td>\n",
       "      <td>23</td>\n",
       "    </tr>\n",
       "    <tr>\n",
       "      <th>Processor_Gen</th>\n",
       "      <td>72</td>\n",
       "      <td>9</td>\n",
       "      <td>11th</td>\n",
       "      <td>31</td>\n",
       "    </tr>\n",
       "    <tr>\n",
       "      <th>Hard_Disk_Capacity</th>\n",
       "      <td>72</td>\n",
       "      <td>7</td>\n",
       "      <td>512 GB SSD</td>\n",
       "      <td>34</td>\n",
       "    </tr>\n",
       "    <tr>\n",
       "      <th>OS</th>\n",
       "      <td>72</td>\n",
       "      <td>7</td>\n",
       "      <td>Windows 10 Home</td>\n",
       "      <td>36</td>\n",
       "    </tr>\n",
       "  </tbody>\n",
       "</table>\n",
       "</div>"
      ],
      "text/plain": [
       "                   count unique              top freq\n",
       "Brand                 72      8             ASUS   27\n",
       "Model                 72     25          IdeaPad   15\n",
       "Series                72     26                3   17\n",
       "Processor             72     16               i3   23\n",
       "Processor_Gen         72      9             11th   31\n",
       "Hard_Disk_Capacity    72      7       512 GB SSD   34\n",
       "OS                    72      7  Windows 10 Home   36"
      ]
     },
     "execution_count": 11,
     "metadata": {},
     "output_type": "execute_result"
    }
   ],
   "source": [
    "#statistical values\n",
    "df.describe(include='object').T"
   ]
  },
  {
   "cell_type": "code",
   "execution_count": 12,
   "id": "8e457a2c",
   "metadata": {},
   "outputs": [
    {
     "name": "stdout",
     "output_type": "stream",
     "text": [
      "The Dataframe:Laptops has 72 rows and 11 columns\n"
     ]
    }
   ],
   "source": [
    "#checking no. of rows and columns\n",
    "x=df.shape\n",
    "print(f\"The Dataframe:Laptops has {x[0]} rows and {x[1]} columns\")"
   ]
  },
  {
   "cell_type": "code",
   "execution_count": 13,
   "id": "266b091b",
   "metadata": {},
   "outputs": [],
   "source": [
    "#defing a label for containers\n",
    "def showlabels(ax):\n",
    "    for data in ax.containers:ax.bar_label(data)"
   ]
  },
  {
   "cell_type": "markdown",
   "id": "9ba90cb0",
   "metadata": {},
   "source": [
    "### Data Visualisation\n",
    "## Brand Analysis"
   ]
  },
  {
   "cell_type": "code",
   "execution_count": 14,
   "id": "72977818",
   "metadata": {},
   "outputs": [
    {
     "data": {
      "text/plain": [
       "Brand\n",
       "ASUS         27\n",
       "Lenovo       24\n",
       "HP            9\n",
       "DELL          5\n",
       "acer          3\n",
       "MSI           2\n",
       "realme        1\n",
       "MICROSOFT     1\n",
       "Name: count, dtype: int64"
      ]
     },
     "execution_count": 14,
     "metadata": {},
     "output_type": "execute_result"
    }
   ],
   "source": [
    "df.Brand.value_counts()"
   ]
  },
  {
   "cell_type": "code",
   "execution_count": 15,
   "id": "531fc9e1",
   "metadata": {},
   "outputs": [
    {
     "data": {
      "image/png": "[encoded data removed]",
      "text/plain": [
       "<Figure size 800x500 with 1 Axes>"
      ]
     },
     "metadata": {},
     "output_type": "display_data"
    }
   ],
   "source": [
    "plt.figure(figsize=(8, 5))\n",
    "sns.countplot(x='Brand', data=df)\n",
    "plt.xlabel('Brand')\n",
    "plt.ylabel('Count')\n",
    "plt.title('Brand Distribution')\n",
    "plt.show()"
   ]
  },
  {
   "cell_type": "markdown",
   "id": "9de04756",
   "metadata": {},
   "source": [
    "#### Conclusion: Asus had the most laptops with 27\n"
   ]
  },
  {
   "cell_type": "code",
   "execution_count": 16,
   "id": "05dedb8e",
   "metadata": {},
   "outputs": [
    {
     "name": "stdout",
     "output_type": "stream",
     "text": [
      "       Brand    Price\n",
      "0       ASUS  1369340\n",
      "1     Lenovo  1188894\n",
      "2         HP   537460\n",
      "3       DELL   214900\n",
      "4       acer   185820\n",
      "5        MSI   142880\n",
      "6  MICROSOFT    91949\n",
      "7     realme    46940\n"
     ]
    }
   ],
   "source": [
    "price_of_brands=df.groupby(['Brand'])['Price'].sum()\n",
    "new_price=price_of_brands.sort_values(ascending=False).reset_index()\n",
    "print(new_price)"
   ]
  },
  {
   "cell_type": "code",
   "execution_count": 17,
   "id": "32b6d424",
   "metadata": {},
   "outputs": [
    {
     "data": {
      "text/plain": [
       "Text(0, 0.5, 'Price')"
      ]
     },
     "execution_count": 17,
     "metadata": {},
     "output_type": "execute_result"
    },
    {
     "data": {
      "image/png": "[encoded data removed]",
      "text/plain": [
       "<Figure size 900x500 with 1 Axes>"
      ]
     },
     "metadata": {},
     "output_type": "display_data"
    }
   ],
   "source": [
    "plt.figure(figsize=(9,5))\n",
    "ax=sns.barplot(x=\"Brand\",y=\"Price\", data =new_price)\n",
    "showlabels(ax)\n",
    "plt.title(\"Sale\")\n",
    "plt.xlabel(\"Brand\")\n",
    "plt.ylabel(\"Price\")"
   ]
  },
  {
   "cell_type": "code",
   "execution_count": 18,
   "id": "45b899ac",
   "metadata": {},
   "outputs": [
    {
     "name": "stdout",
     "output_type": "stream",
     "text": [
      "    Brand       Model  count\n",
      "0  Lenovo     IdeaPad     15\n",
      "1    ASUS    VivoBook     11\n",
      "2    ASUS    Vivobook      6\n",
      "3  Lenovo     Ideapad      6\n",
      "4    DELL    Inspiron      4\n",
      "5      HP    Pavilion      3\n",
      "6      HP       Ryzen      3\n",
      "7    ASUS         TUF      2\n",
      "8    ASUS       Ryzen      2\n",
      "9    ASUS  Chromebook      2\n"
     ]
    }
   ],
   "source": [
    "f=df.groupby(['Brand'])['Model'].value_counts()\n",
    "g=f.sort_values(ascending=False).head(10).reset_index()\n",
    "print(g)"
   ]
  },
  {
   "cell_type": "code",
   "execution_count": 19,
   "id": "9c9fc366",
   "metadata": {},
   "outputs": [
    {
     "name": "stdout",
     "output_type": "stream",
     "text": [
      "Brand      Processor\n",
      "ASUS       i3           10\n",
      "           i5            8\n",
      "           -             4\n",
      "           i7            2\n",
      "           3250U         1\n",
      "           5500U         1\n",
      "           4800HS        1\n",
      "DELL       3450U         3\n",
      "           3250U         1\n",
      "           3050U         1\n",
      "HP         i7            1\n",
      "           5600H         1\n",
      "           i5            1\n",
      "           i3            1\n",
      "           5300U         1\n",
      "           4800H         1\n",
      "           4600H         1\n",
      "           3250U         1\n",
      "           -             1\n",
      "Lenovo     i3           11\n",
      "           i5            8\n",
      "           A9            1\n",
      "           5600H         1\n",
      "           5600U         1\n",
      "           AMD           1\n",
      "           5500U         1\n",
      "MICROSOFT  i5            1\n",
      "MSI        i5            2\n",
      "acer       i5            2\n",
      "           5600H         1\n",
      "realme     i3            1\n",
      "Name: count, dtype: int64\n"
     ]
    }
   ],
   "source": [
    "count_of_processor=df.groupby(['Brand'])['Processor'].value_counts()\n",
    "print(count_of_processor)"
   ]
  },
  {
   "cell_type": "code",
   "execution_count": 20,
   "id": "2afb18b4",
   "metadata": {},
   "outputs": [
    {
     "name": "stdout",
     "output_type": "stream",
     "text": [
      "Most Common laptop and processor is : {('Lenovo', 'i3')}\n"
     ]
    }
   ],
   "source": [
    "h=count_of_processor.idxmax()\n",
    "print(\"Most Common laptop and processor is :\",{h})"
   ]
  },
  {
   "cell_type": "code",
   "execution_count": 21,
   "id": "4b85b3ed",
   "metadata": {},
   "outputs": [
    {
     "name": "stdout",
     "output_type": "stream",
     "text": [
      "        Brand  Hard_Disk_Capacity  count\n",
      "0      Lenovo          512 GB SSD     13\n",
      "1        ASUS          512 GB SSD     11\n",
      "2      Lenovo          256 GB SSD      8\n",
      "3        ASUS          256 GB SSD      7\n",
      "4        ASUS            1 TB HDD      6\n",
      "5          HP          512 GB SSD      6\n",
      "6      Lenovo            1 TB HDD      3\n",
      "7        DELL          256 GB SSD      3\n",
      "8        acer            1 TB HDD      2\n",
      "9         MSI          512 GB SSD      2\n",
      "10         HP            1 TB HDD      2\n",
      "11         HP          256 GB SSD      1\n",
      "12       DELL            1 TB HDD      1\n",
      "13       DELL          512 GB SSD      1\n",
      "14       ASUS  32 GB EMMC Storage      1\n",
      "15  MICROSOFT          128 GB SSD      1\n",
      "16       ASUS  64 GB EMMC Storage      1\n",
      "17       ASUS            1 TB SSD      1\n",
      "18       acer          512 GB SSD      1\n",
      "19     realme          256 GB SSD      1\n"
     ]
    }
   ],
   "source": [
    "i=df.groupby(['Brand'])[\"Hard_Disk_Capacity\"].value_counts()\n",
    "d=i.sort_values(ascending=False).reset_index()\n",
    "print(d)"
   ]
  },
  {
   "cell_type": "code",
   "execution_count": 23,
   "id": "d2da95d8",
   "metadata": {},
   "outputs": [
    {
     "name": "stdout",
     "output_type": "stream",
     "text": [
      "        Brand  Rating  count\n",
      "0        ASUS     4.3      7\n",
      "1      Lenovo     4.3      7\n",
      "2      Lenovo     4.4      6\n",
      "3        ASUS     4.2      5\n",
      "4      Lenovo     4.2      4\n",
      "5        ASUS     4.5      4\n",
      "6          HP     4.5      3\n",
      "7        ASUS     4.6      3\n",
      "8        DELL     4.3      2\n",
      "9      Lenovo     4.1      2\n",
      "10       ASUS     3.7      2\n",
      "11         HP     4.4      2\n",
      "12       DELL     4.2      2\n",
      "13     Lenovo     4.5      2\n",
      "14     Lenovo     3.7      1\n",
      "15       acer     4.5      1\n",
      "16     Lenovo     3.9      1\n",
      "17  MICROSOFT     4.5      1\n",
      "18     Lenovo     4.6      1\n",
      "19        MSI     4.4      1\n",
      "20        MSI     4.5      1\n",
      "21       acer     4.4      1\n",
      "22       acer     4.6      1\n",
      "23         HP     4.3      1\n",
      "24         HP     3.9      1\n",
      "25         HP     4.2      1\n",
      "26         HP     4.6      1\n",
      "27       DELL     3.9      1\n",
      "28       ASUS     4.1      1\n",
      "29       ASUS     4.4      1\n",
      "30       ASUS     4.7      1\n",
      "31       ASUS     4.8      1\n",
      "32       ASUS     3.6      1\n",
      "33       ASUS     2.9      1\n",
      "34     realme     4.4      1\n"
     ]
    }
   ],
   "source": [
    "Brand_rating=df.groupby([\"Brand\"])[\"Rating\"].value_counts()\n",
    "bar1=Brand_rating.sort_values(ascending=False).reset_index()\n",
    "print(bar1)"
   ]
  },
  {
   "cell_type": "code",
   "execution_count": null,
   "id": "9b91a6cf",
   "metadata": {},
   "outputs": [],
   "source": [
    "plt.figure(figsize=(5,5))\n",
    "ax=sns.barplot(x=\"Brand\",y=\"Rating\", data=bar1)\n",
    "plt.title(\"Highest Rating Brand\")\n",
    "plt.xlabel(\"Brand\")\n",
    "plt.ylabel(\"Rating\")\n",
    "showlabels(ax)"
   ]
  },
  {
   "cell_type": "markdown",
   "id": "03f4d7fc",
   "metadata": {},
   "source": [
    "## Model Analysis"
   ]
  },
  {
   "cell_type": "code",
   "execution_count": null,
   "id": "838689fb",
   "metadata": {},
   "outputs": [],
   "source": [
    "Model_count=df[\"Model\"].value_counts()\n",
    "Model_count1=Model_count.sort_values(ascending= False).head(5).reset_index()\n",
    "print(Model_count1)"
   ]
  },
  {
   "cell_type": "code",
   "execution_count": null,
   "id": "696f27b5",
   "metadata": {},
   "outputs": [],
   "source": [
    "x=df.groupby(['Model'])['Price'].sum()\n",
    "y=x.sort_values(ascending=False).head(5).reset_index()\n",
    "print(y)"
   ]
  },
  {
   "cell_type": "code",
   "execution_count": null,
   "id": "6e54a8f9",
   "metadata": {},
   "outputs": [],
   "source": [
    "plt.figure(figsize=(10,5))\n",
    "ax=sns.barplot(x='Model',y=\"Price\", data=y)\n",
    "showlabels(ax)"
   ]
  },
  {
   "cell_type": "markdown",
   "id": "bfac3b36",
   "metadata": {},
   "source": [
    "#### Conclusion: Ideapad type model was the highest in inventory"
   ]
  },
  {
   "cell_type": "code",
   "execution_count": null,
   "id": "7e9b9eea",
   "metadata": {},
   "outputs": [],
   "source": [
    "Model_rating=df.groupby([\"Model\"])[\"Rating\"].value_counts()\n",
    "bar=Model_rating.sort_values(ascending=False).reset_index().head()\n",
    "print(bar)"
   ]
  },
  {
   "cell_type": "code",
   "execution_count": null,
   "id": "190ee60c",
   "metadata": {},
   "outputs": [],
   "source": [
    "ax=sns.barplot(x=\"Model\",y=\"Rating\", data=bar)\n",
    "plt.title(\"Highest Rating Model\")\n",
    "plt.xlabel(\"Model\")\n",
    "plt.ylabel(\"Rating\")\n",
    "showlabels(ax)"
   ]
  },
  {
   "cell_type": "markdown",
   "id": "3716deae",
   "metadata": {},
   "source": [
    "## 3)Processor Analysis"
   ]
  },
  {
   "cell_type": "code",
   "execution_count": null,
   "id": "7f23786a",
   "metadata": {},
   "outputs": [],
   "source": [
    "df.Processor.value_counts()"
   ]
  },
  {
   "cell_type": "code",
   "execution_count": null,
   "id": "55577285",
   "metadata": {},
   "outputs": [],
   "source": [
    "highest_selling_processor=count_of_processor.idxmax()\n",
    "print(\"Most sold  :\",{highest_selling_processor})"
   ]
  },
  {
   "cell_type": "markdown",
   "id": "86fd2fc0",
   "metadata": {},
   "source": [
    "### Conclusion: Lenovo had the most  i3 processor"
   ]
  },
  {
   "cell_type": "code",
   "execution_count": null,
   "id": "8e025ea7",
   "metadata": {},
   "outputs": [],
   "source": [
    "high_rating=df.groupby(['Brand','Processor'])['Rating'].value_counts()\n",
    "order=high_rating.sort_values(ascending=True).head(10).reset_index()\n",
    "print(order)"
   ]
  },
  {
   "cell_type": "markdown",
   "id": "95dfb767",
   "metadata": {},
   "source": [
    "### Conclusion:Hp brand had the processor 4600H with Highest Rating at  4.4"
   ]
  },
  {
   "cell_type": "code",
   "execution_count": null,
   "id": "78717351",
   "metadata": {},
   "outputs": [],
   "source": [
    "plt.figure(figsize=(8, 5))\n",
    "ax=sns.barplot(x='Processor', y='Rating', data=order)\n",
    "plt.xlabel('Rating by Processor')\n",
    "plt.ylabel('Rating')\n",
    "plt.title('Processor')\n",
    "showlabels(ax)\n",
    "plt.show()"
   ]
  },
  {
   "cell_type": "code",
   "execution_count": null,
   "id": "4ec73908",
   "metadata": {},
   "outputs": [],
   "source": [
    "plt.figure(figsize=(8, 5))\n",
    "sns.histplot(df['Rating'], bins=10, kde=True)\n",
    "plt.xlabel('Rating')\n",
    "plt.ylabel('Frequency')\n",
    "plt.title('Distribution of Ratings')\n",
    "plt.grid()\n",
    "plt.show()"
   ]
  },
  {
   "cell_type": "markdown",
   "id": "3c73323d",
   "metadata": {},
   "source": [
    "# Summary"
   ]
  },
  {
   "cell_type": "markdown",
   "id": "6c18101b",
   "metadata": {},
   "source": [
    " Asus most number of laptops with 27 with a stock of Rs 13,69,340 followed by lenovo at 24 with a stock of Rs 11,88,894\n",
    "Lenovo has most ideapad Models and Asus at vivobook.Asus and Lenovo both had i3 processor in the inventory the most.\n",
    "The Processor 512gbssd was the most in stock because of high-storage\n",
    "There are 15 Ideapad Models and 11 Vivobook Models. Most Model in INventory was at a price os Rs 6,88,800 was Ideapad.\n",
    "Pavillion got the highest Rating at 4.5 .The Ratings were distributed across varios with most between 4.0-4.5 stars."
   ]
  },
  {
   "cell_type": "code",
   "execution_count": null,
   "id": "922f558d",
   "metadata": {},
   "outputs": [],
   "source": []
  }
 ],
 "metadata": {
  "kernelspec": {
   "display_name": "Python 3 (ipykernel)",
   "language": "python",
   "name": "python3"
  },
  "language_info": {
   "codemirror_mode": {
    "name": "ipython",
    "version": 3
   },
   "file_extension": ".py",
   "mimetype": "text/x-python",
   "name": "python",
   "nbconvert_exporter": "python",
   "pygments_lexer": "ipython3",
   "version": "3.11.5"
  }
 },
 "nbformat": 4,
 "nbformat_minor": 5
}
